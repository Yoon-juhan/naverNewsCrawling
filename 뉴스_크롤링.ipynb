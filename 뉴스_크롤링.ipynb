{
  "nbformat": 4,
  "nbformat_minor": 0,
  "metadata": {
    "colab": {
      "provenance": []
    },
    "kernelspec": {
      "name": "python3",
      "display_name": "Python 3"
    },
    "language_info": {
      "name": "python"
    }
  },
  "cells": [
    {
      "cell_type": "markdown",
      "source": [
        "# 뉴스 크롤링"
      ],
      "metadata": {
        "id": "oqCEU2y6LZXy"
      }
    },
    {
      "cell_type": "code",
      "source": [
        "pip install selenium"
      ],
      "metadata": {
        "id": "tENVRECcAANQ"
      },
      "execution_count": null,
      "outputs": []
    },
    {
      "cell_type": "code",
      "source": [
        "pip install webdriver-manager"
      ],
      "metadata": {
        "id": "eijBgLNJEs7f"
      },
      "execution_count": null,
      "outputs": []
    },
    {
      "cell_type": "code",
      "source": [
        "!apt-get update\n",
        "!apt install chromium-chromedriver"
      ],
      "metadata": {
        "id": "utuWY_1GBQso",
        "colab": {
          "base_uri": "https://localhost:8080/"
        },
        "outputId": "7202ba57-a4f4-4a88-cb94-583705248dfe"
      },
      "execution_count": 3,
      "outputs": [
        {
          "output_type": "stream",
          "name": "stdout",
          "text": [
            "\r0% [Working]\r            \rHit:1 https://developer.download.nvidia.com/compute/cuda/repos/ubuntu2204/x86_64  InRelease\n",
            "Get:2 https://cloud.r-project.org/bin/linux/ubuntu jammy-cran40/ InRelease [3,626 B]\n",
            "Get:3 http://security.ubuntu.com/ubuntu jammy-security InRelease [110 kB]\n",
            "Hit:4 http://archive.ubuntu.com/ubuntu jammy InRelease\n",
            "Get:5 http://archive.ubuntu.com/ubuntu jammy-updates InRelease [119 kB]\n",
            "Get:6 https://ppa.launchpadcontent.net/c2d4u.team/c2d4u4.0+/ubuntu jammy InRelease [18.1 kB]\n",
            "Get:7 https://cloud.r-project.org/bin/linux/ubuntu jammy-cran40/ Packages [44.8 kB]\n",
            "Get:8 http://archive.ubuntu.com/ubuntu jammy-backports InRelease [109 kB]\n",
            "Get:9 http://security.ubuntu.com/ubuntu jammy-security/main amd64 Packages [1,131 kB]\n",
            "Hit:10 https://ppa.launchpadcontent.net/deadsnakes/ppa/ubuntu jammy InRelease\n",
            "Get:11 http://archive.ubuntu.com/ubuntu jammy-updates/universe amd64 Packages [1,274 kB]\n",
            "Hit:12 https://ppa.launchpadcontent.net/graphics-drivers/ppa/ubuntu jammy InRelease\n",
            "Get:13 http://security.ubuntu.com/ubuntu jammy-security/universe amd64 Packages [1,009 kB]\n",
            "Get:14 http://archive.ubuntu.com/ubuntu jammy-updates/main amd64 Packages [1,400 kB]\n",
            "Hit:15 https://ppa.launchpadcontent.net/ubuntugis/ppa/ubuntu jammy InRelease\n",
            "Get:16 https://ppa.launchpadcontent.net/c2d4u.team/c2d4u4.0+/ubuntu jammy/main Sources [2,230 kB]\n",
            "Get:17 https://ppa.launchpadcontent.net/c2d4u.team/c2d4u4.0+/ubuntu jammy/main amd64 Packages [1,145 kB]\n",
            "Fetched 8,593 kB in 6s (1,397 kB/s)\n",
            "Reading package lists... Done\n",
            "Reading package lists... Done\n",
            "Building dependency tree... Done\n",
            "Reading state information... Done\n",
            "The following additional packages will be installed:\n",
            "  apparmor chromium-browser libfuse3-3 liblzo2-2 libpam-systemd libsystemd0 libudev1 snapd\n",
            "  squashfs-tools systemd systemd-hwe-hwdb systemd-sysv udev\n",
            "Suggested packages:\n",
            "  apparmor-profiles-extra apparmor-utils fuse3 zenity | kdialog systemd-container\n",
            "  libtss2-esys-3.0.2-0 libtss2-mu0 libtss2-rc0\n",
            "Recommended packages:\n",
            "  networkd-dispatcher systemd-timesyncd | time-daemon libnss-systemd\n",
            "The following NEW packages will be installed:\n",
            "  apparmor chromium-browser chromium-chromedriver libfuse3-3 liblzo2-2 snapd squashfs-tools\n",
            "  systemd-hwe-hwdb udev\n",
            "The following packages will be upgraded:\n",
            "  libpam-systemd libsystemd0 libudev1 systemd systemd-sysv\n",
            "5 upgraded, 9 newly installed, 0 to remove and 24 not upgraded.\n",
            "Need to get 31.5 MB of archives.\n",
            "After this operation, 116 MB of additional disk space will be used.\n",
            "Get:1 http://archive.ubuntu.com/ubuntu jammy-updates/main amd64 systemd-sysv amd64 249.11-0ubuntu3.11 [10.5 kB]\n",
            "Get:2 http://archive.ubuntu.com/ubuntu jammy-updates/main amd64 libpam-systemd amd64 249.11-0ubuntu3.11 [203 kB]\n",
            "Get:3 http://archive.ubuntu.com/ubuntu jammy-updates/main amd64 systemd amd64 249.11-0ubuntu3.11 [4,581 kB]\n",
            "Get:4 http://archive.ubuntu.com/ubuntu jammy-updates/main amd64 libsystemd0 amd64 249.11-0ubuntu3.11 [318 kB]\n",
            "Get:5 http://archive.ubuntu.com/ubuntu jammy-updates/main amd64 apparmor amd64 3.0.4-2ubuntu2.2 [595 kB]\n",
            "Get:6 http://archive.ubuntu.com/ubuntu jammy/main amd64 liblzo2-2 amd64 2.10-2build3 [53.7 kB]\n",
            "Get:7 http://archive.ubuntu.com/ubuntu jammy/main amd64 squashfs-tools amd64 1:4.5-3build1 [159 kB]\n",
            "Get:8 http://archive.ubuntu.com/ubuntu jammy-updates/main amd64 libudev1 amd64 249.11-0ubuntu3.11 [78.0 kB]\n",
            "Get:9 http://archive.ubuntu.com/ubuntu jammy-updates/main amd64 udev amd64 249.11-0ubuntu3.11 [1,557 kB]\n",
            "Get:10 http://archive.ubuntu.com/ubuntu jammy/main amd64 libfuse3-3 amd64 3.10.5-1build1 [81.2 kB]\n",
            "Get:11 http://archive.ubuntu.com/ubuntu jammy-updates/main amd64 snapd amd64 2.58+22.04.1 [23.8 MB]\n",
            "Get:12 http://archive.ubuntu.com/ubuntu jammy-updates/universe amd64 chromium-browser amd64 1:85.0.4183.83-0ubuntu2.22.04.1 [49.2 kB]\n",
            "Get:13 http://archive.ubuntu.com/ubuntu jammy-updates/universe amd64 chromium-chromedriver amd64 1:85.0.4183.83-0ubuntu2.22.04.1 [2,308 B]\n",
            "Get:14 http://archive.ubuntu.com/ubuntu jammy-updates/main amd64 systemd-hwe-hwdb all 249.11.3 [2,908 B]\n",
            "Fetched 31.5 MB in 4s (8,954 kB/s)\n",
            "Preconfiguring packages ...\n",
            "(Reading database ... 120874 files and directories currently installed.)\n",
            "Preparing to unpack .../systemd-sysv_249.11-0ubuntu3.11_amd64.deb ...\n",
            "Unpacking systemd-sysv (249.11-0ubuntu3.11) over (249.11-0ubuntu3.10) ...\n",
            "Preparing to unpack .../libpam-systemd_249.11-0ubuntu3.11_amd64.deb ...\n",
            "Unpacking libpam-systemd:amd64 (249.11-0ubuntu3.11) over (249.11-0ubuntu3.10) ...\n",
            "Preparing to unpack .../systemd_249.11-0ubuntu3.11_amd64.deb ...\n",
            "Unpacking systemd (249.11-0ubuntu3.11) over (249.11-0ubuntu3.10) ...\n",
            "Preparing to unpack .../libsystemd0_249.11-0ubuntu3.11_amd64.deb ...\n",
            "Unpacking libsystemd0:amd64 (249.11-0ubuntu3.11) over (249.11-0ubuntu3.10) ...\n",
            "Setting up libsystemd0:amd64 (249.11-0ubuntu3.11) ...\n",
            "Selecting previously unselected package apparmor.\n",
            "(Reading database ... 120874 files and directories currently installed.)\n",
            "Preparing to unpack .../apparmor_3.0.4-2ubuntu2.2_amd64.deb ...\n",
            "Unpacking apparmor (3.0.4-2ubuntu2.2) ...\n",
            "Selecting previously unselected package liblzo2-2:amd64.\n",
            "Preparing to unpack .../liblzo2-2_2.10-2build3_amd64.deb ...\n",
            "Unpacking liblzo2-2:amd64 (2.10-2build3) ...\n",
            "Selecting previously unselected package squashfs-tools.\n",
            "Preparing to unpack .../squashfs-tools_1%3a4.5-3build1_amd64.deb ...\n",
            "Unpacking squashfs-tools (1:4.5-3build1) ...\n",
            "Preparing to unpack .../libudev1_249.11-0ubuntu3.11_amd64.deb ...\n",
            "Unpacking libudev1:amd64 (249.11-0ubuntu3.11) over (249.11-0ubuntu3.9) ...\n",
            "Setting up libudev1:amd64 (249.11-0ubuntu3.11) ...\n",
            "Selecting previously unselected package udev.\n",
            "(Reading database ... 121081 files and directories currently installed.)\n",
            "Preparing to unpack .../udev_249.11-0ubuntu3.11_amd64.deb ...\n",
            "Unpacking udev (249.11-0ubuntu3.11) ...\n",
            "Selecting previously unselected package libfuse3-3:amd64.\n",
            "Preparing to unpack .../libfuse3-3_3.10.5-1build1_amd64.deb ...\n",
            "Unpacking libfuse3-3:amd64 (3.10.5-1build1) ...\n",
            "Selecting previously unselected package snapd.\n",
            "Preparing to unpack .../snapd_2.58+22.04.1_amd64.deb ...\n",
            "Unpacking snapd (2.58+22.04.1) ...\n",
            "Setting up apparmor (3.0.4-2ubuntu2.2) ...\n",
            "Created symlink /etc/systemd/system/sysinit.target.wants/apparmor.service → /lib/systemd/system/apparmor.service.\n",
            "Setting up liblzo2-2:amd64 (2.10-2build3) ...\n",
            "Setting up squashfs-tools (1:4.5-3build1) ...\n",
            "Setting up systemd (249.11-0ubuntu3.11) ...\n",
            "\u001b[0;1;31m/usr/lib/tmpfiles.d/static-nodes-permissions.conf:17: Failed to resolve group 'kvm'.\u001b[0m\n",
            "\u001b[0;1;31m/usr/lib/tmpfiles.d/static-nodes-permissions.conf:18: Failed to resolve group 'kvm'.\u001b[0m\n",
            "\u001b[0;1;31m/usr/lib/tmpfiles.d/static-nodes-permissions.conf:19: Failed to resolve group 'kvm'.\u001b[0m\n",
            "Setting up udev (249.11-0ubuntu3.11) ...\n",
            "invoke-rc.d: could not determine current runlevel\n",
            "invoke-rc.d: policy-rc.d denied execution of start.\n",
            "Setting up libfuse3-3:amd64 (3.10.5-1build1) ...\n",
            "Setting up snapd (2.58+22.04.1) ...\n",
            "Created symlink /etc/systemd/system/multi-user.target.wants/snapd.aa-prompt-listener.service → /lib/systemd/system/snapd.aa-prompt-listener.service.\n",
            "Created symlink /etc/systemd/system/multi-user.target.wants/snapd.apparmor.service → /lib/systemd/system/snapd.apparmor.service.\n",
            "Created symlink /etc/systemd/system/multi-user.target.wants/snapd.autoimport.service → /lib/systemd/system/snapd.autoimport.service.\n",
            "Created symlink /etc/systemd/system/multi-user.target.wants/snapd.core-fixup.service → /lib/systemd/system/snapd.core-fixup.service.\n",
            "Created symlink /etc/systemd/system/multi-user.target.wants/snapd.recovery-chooser-trigger.service → /lib/systemd/system/snapd.recovery-chooser-trigger.service.\n",
            "Created symlink /etc/systemd/system/multi-user.target.wants/snapd.seeded.service → /lib/systemd/system/snapd.seeded.service.\n",
            "Created symlink /etc/systemd/system/cloud-final.service.wants/snapd.seeded.service → /lib/systemd/system/snapd.seeded.service.\n",
            "Unit /lib/systemd/system/snapd.seeded.service is added as a dependency to a non-existent unit cloud-final.service.\n",
            "Created symlink /etc/systemd/system/multi-user.target.wants/snapd.service → /lib/systemd/system/snapd.service.\n",
            "Created symlink /etc/systemd/system/timers.target.wants/snapd.snap-repair.timer → /lib/systemd/system/snapd.snap-repair.timer.\n",
            "Created symlink /etc/systemd/system/sockets.target.wants/snapd.socket → /lib/systemd/system/snapd.socket.\n",
            "Created symlink /etc/systemd/system/final.target.wants/snapd.system-shutdown.service → /lib/systemd/system/snapd.system-shutdown.service.\n",
            "Selecting previously unselected package chromium-browser.\n",
            "(Reading database ... 121314 files and directories currently installed.)\n",
            "Preparing to unpack .../chromium-browser_1%3a85.0.4183.83-0ubuntu2.22.04.1_amd64.deb ...\n",
            "=> Installing the chromium snap\n",
            "==> Checking connectivity with the snap store\n",
            "===> System doesn't have a working snapd, skipping\n",
            "Unpacking chromium-browser (1:85.0.4183.83-0ubuntu2.22.04.1) ...\n",
            "Selecting previously unselected package chromium-chromedriver.\n",
            "Preparing to unpack .../chromium-chromedriver_1%3a85.0.4183.83-0ubuntu2.22.04.1_amd64.deb ...\n",
            "Unpacking chromium-chromedriver (1:85.0.4183.83-0ubuntu2.22.04.1) ...\n",
            "Selecting previously unselected package systemd-hwe-hwdb.\n",
            "Preparing to unpack .../systemd-hwe-hwdb_249.11.3_all.deb ...\n",
            "Unpacking systemd-hwe-hwdb (249.11.3) ...\n",
            "Setting up systemd-sysv (249.11-0ubuntu3.11) ...\n",
            "Setting up systemd-hwe-hwdb (249.11.3) ...\n",
            "Setting up chromium-browser (1:85.0.4183.83-0ubuntu2.22.04.1) ...\n",
            "update-alternatives: using /usr/bin/chromium-browser to provide /usr/bin/x-www-browser (x-www-browser) in auto mode\n",
            "update-alternatives: using /usr/bin/chromium-browser to provide /usr/bin/gnome-www-browser (gnome-www-browser) in auto mode\n",
            "Setting up libpam-systemd:amd64 (249.11-0ubuntu3.11) ...\n",
            "Setting up chromium-chromedriver (1:85.0.4183.83-0ubuntu2.22.04.1) ...\n",
            "Processing triggers for udev (249.11-0ubuntu3.11) ...\n",
            "Processing triggers for hicolor-icon-theme (0.17-2) ...\n",
            "Processing triggers for libc-bin (2.35-0ubuntu3.1) ...\n",
            "/sbin/ldconfig.real: /usr/local/lib/libtbbbind.so.3 is not a symbolic link\n",
            "\n",
            "/sbin/ldconfig.real: /usr/local/lib/libtbb.so.12 is not a symbolic link\n",
            "\n",
            "/sbin/ldconfig.real: /usr/local/lib/libtbbmalloc.so.2 is not a symbolic link\n",
            "\n",
            "/sbin/ldconfig.real: /usr/local/lib/libtbbbind_2_5.so.3 is not a symbolic link\n",
            "\n",
            "/sbin/ldconfig.real: /usr/local/lib/libtbbmalloc_proxy.so.2 is not a symbolic link\n",
            "\n",
            "/sbin/ldconfig.real: /usr/local/lib/libtbbbind_2_0.so.3 is not a symbolic link\n",
            "\n",
            "Processing triggers for man-db (2.10.2-1) ...\n",
            "Processing triggers for dbus (1.12.20-2ubuntu4.1) ...\n"
          ]
        }
      ]
    },
    {
      "cell_type": "code",
      "source": [
        "from bs4 import BeautifulSoup\n",
        "from selenium import webdriver\n",
        "from webdriver_manager.chrome import ChromeDriverManager\n",
        "import pandas as pd\n",
        "import time\n",
        "\n",
        "options = webdriver.ChromeOptions()\n",
        "options.add_argument('--headless')\n",
        "options.add_argument('--no-sandbox')\n",
        "options.add_argument('--disable-dev-shm-usage')\n",
        "browser = webdriver.Chrome(options=options)"
      ],
      "metadata": {
        "id": "hdoJPlf8A9K1"
      },
      "execution_count": 4,
      "outputs": []
    },
    {
      "cell_type": "code",
      "execution_count": 6,
      "metadata": {
        "id": "H7_L6uD247Z8",
        "colab": {
          "base_uri": "https://localhost:8080/"
        },
        "outputId": "80b72dc5-962e-4e28-f781-1d06ea0bc3d5"
      },
      "outputs": [
        {
          "output_type": "stream",
          "name": "stdout",
          "text": [
            "카테고리 :  100 페이지 :  1\n"
          ]
        }
      ],
      "source": [
        "# 카테고리 별 100개 기사 크롤링 (링크)\n",
        "# 한 페이지에 20개\n",
        "\n",
        "url_list = []   # url 저장 리스트\n",
        "a_list = []     # a 태그 저장 리스트\n",
        "\n",
        "for category in range(1):     # 6\n",
        "    for page in range(1, 2):  # 1, 6\n",
        "        url = f'https://news.naver.com/main/main.naver?mode=LSD&mid=shm&sid1={100 + category}#&date=%2000:00:00&page={page}'\n",
        "        browser.get(url)\n",
        "\n",
        "        time.sleep(1)\n",
        "\n",
        "        soup = BeautifulSoup(browser.page_source, \"html.parser\")\n",
        "        a_list.extend(soup.select(\".type06_headline dt+dt a\"))\n",
        "        a_list.extend(soup.select(\".type06 dt+dt a\"))\n",
        "\n",
        "        print(\"카테고리 : \", 100 + category, \"페이지 : \", page)\n",
        "\n",
        "for a in a_list:\n",
        "    url_list.append(a[\"href\"])  # 링크"
      ]
    },
    {
      "cell_type": "code",
      "source": [
        "url_list"
      ],
      "metadata": {
        "id": "ozMhCMOIHiQi"
      },
      "execution_count": null,
      "outputs": []
    },
    {
      "cell_type": "code",
      "source": [
        "# 수집한 링크의 제목, 본문, 날짜 크롤링\n",
        "\n",
        "title = []\n",
        "content = []\n",
        "date = []\n",
        "\n",
        "for url in url_list:\n",
        "\n",
        "      browser.get(url)\n",
        "\n",
        "      time.sleep(1)\n",
        "\n",
        "      soup = BeautifulSoup(browser.page_source, \"html.parser\")\n",
        "\n",
        "      title.extend(soup.select(\"#title_area span\"))\n",
        "      content.extend(soup.select(\"#dic_area\"))\n",
        "      date.extend(soup.select(\"._ARTICLE_DATE_TIME\"))"
      ],
      "metadata": {
        "id": "W19FqHMx1lg4"
      },
      "execution_count": 12,
      "outputs": []
    },
    {
      "cell_type": "code",
      "source": [
        "# 위에서 수집한 태그 속에서 내용만 뽑아서 담는다.\n",
        "\n",
        "title_list = []\n",
        "content_list = []\n",
        "date_list = []\n",
        "\n",
        "for t in title:\n",
        "  title_list.append(t.text)\n",
        "\n",
        "for c in content:\n",
        "  c = c.text.replace('\\n', '')\n",
        "  c = c.replace('\\xa0', '')\n",
        "  c = c.replace('\\t', '')\n",
        "  content_list.append(c)\n",
        "\n",
        "for d in date:\n",
        "  date_list.append(d[\"data-date-time\"])"
      ],
      "metadata": {
        "id": "wORd2Lf8KTiT"
      },
      "execution_count": 25,
      "outputs": []
    },
    {
      "cell_type": "code",
      "source": [
        "# 데이터 프레임으로 변환\n",
        "\n",
        "article_df = pd.DataFrame({\"날짜\" : date_list,\n",
        "                           \"제목\" : title_list,\n",
        "                           \"본문\" : content_list,\n",
        "                           \"링크\" : url_list})\n",
        "\n",
        "article_df"
      ],
      "metadata": {
        "id": "5ZgZ_-VN9mGm"
      },
      "execution_count": null,
      "outputs": []
    },
    {
      "cell_type": "markdown",
      "source": [
        "# 전처리"
      ],
      "metadata": {
        "id": "OUvMLvNWLhp0"
      }
    },
    {
      "cell_type": "markdown",
      "source": [
        "**KoNLPy**\n",
        "- 한국어 정보처리를 위한 파이썬 패키지\n",
        "- https://konlpy.org/ko/latest/api/konlpy.tag/#okt-class"
      ],
      "metadata": {
        "id": "1q3t3HMTMmH7"
      }
    },
    {
      "cell_type": "code",
      "source": [
        "pip install konlpy"
      ],
      "metadata": {
        "id": "QR83KuOIMYhj"
      },
      "execution_count": null,
      "outputs": []
    },
    {
      "cell_type": "code",
      "source": [
        "# from konlpy.tag import Kkma\n",
        "from konlpy.tag import Okt\n",
        "from konlpy.utils import pprint\n",
        "import re\n",
        "import"
      ],
      "metadata": {
        "id": "xzW29PkHLlH9"
      },
      "execution_count": 38,
      "outputs": []
    },
    {
      "cell_type": "code",
      "source": [
        "article = \"\"\"\n",
        "'동료와 함께' 메시지로 글로벌 본격 공략…한미 음악방송 출연\n",
        "걸그룹 르세라핌 (서울=연합뉴스) 이태수 기자 = 걸그룹 르세라핌이 27일 오후 1시 첫 영어 디지털 싱글 '퍼펙트 나이트'(Perfect Night)를 발표한다고 소속사 쏘스뮤직이 밝혔다.\n",
        "'퍼펙트 나이트'는 '동료와 함께라면 완벽하지 않은 하루도 즐거울 수 있다'는 메시지를 담은 노래다.\n",
        "르세라핌은 이날 KBS 2TV '뮤직뱅크'와 '더 시즌즈 - 악뮤의 오날오밤'을 시작으로 국내 음악방송에서 신곡 무대를 선보인다.\n",
        "또 다음 달 2일(현지시간) 미국 그래미 뮤지엄 인기 온라인 퍼포먼스 시리즈 '글로벌 스핀 라이브'(Global Spin Live)에 출연하는 등 미국 활동에도 시동을 건다. 이 공연 티켓은 예매 시작 1분 만에 매진됐다.\n",
        "르세라핌은 이번 신곡 뮤직비디오를 블리자드 엔터테인먼트의 유명 게임 '오버워치 2'와 협업해 제작했다. 이들은 다음 달 4일(현지시간) 미국 캘리포니아주 애너하임 컨벤션센터에서 열리는 게임 축제 '블리즈컨 2023'에도 출연해 공연을 펼친다.\"\n",
        "\"\"\"\n",
        "\n",
        "okt = Okt()\n",
        "\n",
        "# for article in article_df[\"본문\"]:\n",
        "article = re.sub('\\n','',article)\n",
        "article = re.sub('\\u200b','',article)\n",
        "article = re.sub('\\xa0','',article)\n",
        "article = re.sub('([a-zA-Z])','',article)\n",
        "article = re.sub('[ㄱ-ㅎㅏ-ㅣ]+','',article)\n",
        "article = re.sub('[-=+,#/\\?:^$.@*\\\"※~&%ㆍ!』\\\\‘|\\(\\)\\[\\]\\<\\>`\\'…》]','',article)\n",
        "\n",
        "article = okt.nouns(article)     # 명사\n",
        "print(article)"
      ],
      "metadata": {
        "colab": {
          "base_uri": "https://localhost:8080/"
        },
        "id": "zMbU268wP0lL",
        "outputId": "6f135242-3973-4242-fb29-4eacd29f4bc7"
      },
      "execution_count": 65,
      "outputs": [
        {
          "output_type": "stream",
          "name": "stdout",
          "text": [
            "['동료', '메시지', '글로벌', '본격', '공략', '한미', '음악', '방송', '출연', '걸그룹', '르', '세라핌', '서울', '연합뉴스', '이태수', '기자', '걸그룹', '르', '세라핌', '오후', '첫', '영어', '디지털', '싱글', '퍼펙트', '나이트', '를', '발표', '소속사', '스뮤', '직', '퍼펙트', '나이트', '동료', '하루', '수', '메시지', '노래', '르', '세라핌', '날', '뮤직뱅크', '더', '시즌즈', '악뮤', '오', '밤', '시작', '국내', '음악', '방송', '신곡', '무대', '또', '다음', '달', '미국', '그래미', '뮤', '지엄', '인기', '온라인', '퍼포먼스', '시리즈', '글로벌', '스핀', '라이브', '출연', '등', '미국', '활동', '시동', '건', '이', '공연', '티켓', '예매', '시작', '매진', '세라핌', '이번', '신곡', '뮤직비디오', '블리자드', '엔터테인먼트', '유명', '게임', '오버', '워치', '협업', '제작', '이', '다음', '달', '미국', '캘리포니아주', '애너하임', '컨벤션', '센터', '게임', '축제', '블리즈컨', '출연', '공연']\n"
          ]
        }
      ]
    }
  ]
}