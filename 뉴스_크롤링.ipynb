{
  "nbformat": 4,
  "nbformat_minor": 0,
  "metadata": {
    "colab": {
      "provenance": []
    },
    "kernelspec": {
      "name": "python3",
      "display_name": "Python 3"
    },
    "language_info": {
      "name": "python"
    }
  },
  "cells": [
    {
      "cell_type": "markdown",
      "source": [
        "# 뉴스 크롤링"
      ],
      "metadata": {
        "id": "oqCEU2y6LZXy"
      }
    },
    {
      "cell_type": "code",
      "source": [
        "pip install selenium"
      ],
      "metadata": {
        "id": "tENVRECcAANQ"
      },
      "execution_count": null,
      "outputs": []
    },
    {
      "cell_type": "code",
      "source": [
        "pip install webdriver-manager"
      ],
      "metadata": {
        "id": "eijBgLNJEs7f"
      },
      "execution_count": null,
      "outputs": []
    },
    {
      "cell_type": "code",
      "source": [
        "!apt-get update\n",
        "!apt install chromium-chromedriver"
      ],
      "metadata": {
        "id": "utuWY_1GBQso"
      },
      "execution_count": null,
      "outputs": []
    },
    {
      "cell_type": "code",
      "source": [
        "from bs4 import BeautifulSoup\n",
        "from selenium import webdriver\n",
        "from webdriver_manager.chrome import ChromeDriverManager\n",
        "import pandas as pd\n",
        "import time\n",
        "\n",
        "options = webdriver.ChromeOptions()\n",
        "options.add_argument('--headless')\n",
        "options.add_argument('--no-sandbox')\n",
        "options.add_argument('--disable-dev-shm-usage')\n",
        "browser = webdriver.Chrome(options=options)"
      ],
      "metadata": {
        "id": "hdoJPlf8A9K1"
      },
      "execution_count": 4,
      "outputs": []
    },
    {
      "cell_type": "code",
      "execution_count": 6,
      "metadata": {
        "id": "H7_L6uD247Z8",
        "colab": {
          "base_uri": "https://localhost:8080/"
        },
        "outputId": "80b72dc5-962e-4e28-f781-1d06ea0bc3d5"
      },
      "outputs": [
        {
          "output_type": "stream",
          "name": "stdout",
          "text": [
            "카테고리 :  100 페이지 :  1\n"
          ]
        }
      ],
      "source": [
        "# 카테고리 별 100개 기사 크롤링 (링크)\n",
        "# 한 페이지에 20개\n",
        "\n",
        "url_list = []   # url 저장 리스트\n",
        "a_list = []     # a 태그 저장 리스트\n",
        "\n",
        "for category in range(1):     # 6\n",
        "    for page in range(1, 2):  # 1, 6\n",
        "        url = f'https://news.naver.com/main/main.naver?mode=LSD&mid=shm&sid1={100 + category}#&date=%2000:00:00&page={page}'\n",
        "        browser.get(url)\n",
        "\n",
        "        time.sleep(1)\n",
        "\n",
        "        soup = BeautifulSoup(browser.page_source, \"html.parser\")\n",
        "        a_list.extend(soup.select(\".type06_headline dt+dt a\"))\n",
        "        a_list.extend(soup.select(\".type06 dt+dt a\"))\n",
        "\n",
        "        print(\"카테고리 : \", 100 + category, \"페이지 : \", page)\n",
        "\n",
        "for a in a_list:\n",
        "    url_list.append(a[\"href\"])  # 링크"
      ]
    },
    {
      "cell_type": "code",
      "source": [
        "url_list"
      ],
      "metadata": {
        "id": "ozMhCMOIHiQi"
      },
      "execution_count": null,
      "outputs": []
    },
    {
      "cell_type": "code",
      "source": [
        "# 수집한 링크의 제목, 본문, 날짜 크롤링\n",
        "\n",
        "title = []\n",
        "content = []\n",
        "date = []\n",
        "\n",
        "for url in url_list:\n",
        "\n",
        "      browser.get(url)\n",
        "\n",
        "      time.sleep(1)\n",
        "\n",
        "      soup = BeautifulSoup(browser.page_source, \"html.parser\")\n",
        "\n",
        "      title.extend(soup.select(\"#title_area span\"))\n",
        "      content.extend(soup.select(\"#dic_area\"))\n",
        "      date.extend(soup.select(\"._ARTICLE_DATE_TIME\"))"
      ],
      "metadata": {
        "id": "W19FqHMx1lg4"
      },
      "execution_count": 12,
      "outputs": []
    },
    {
      "cell_type": "code",
      "source": [
        "# 위에서 수집한 태그 속에서 내용만 뽑아서 담는다.\n",
        "\n",
        "title_list = []\n",
        "content_list = []\n",
        "date_list = []\n",
        "\n",
        "for t in title:\n",
        "  title_list.append(t.text)\n",
        "\n",
        "for c in content:\n",
        "  c = c.text.replace('\\n', '')\n",
        "  c = c.replace('\\xa0', '')\n",
        "  c = c.replace('\\t', '')\n",
        "  content_list.append(c)\n",
        "\n",
        "for d in date:\n",
        "  date_list.append(d[\"data-date-time\"])"
      ],
      "metadata": {
        "id": "wORd2Lf8KTiT"
      },
      "execution_count": 25,
      "outputs": []
    },
    {
      "cell_type": "code",
      "source": [
        "# 데이터 프레임으로 변환\n",
        "\n",
        "article_df = pd.DataFrame({\"날짜\" : date_list,\n",
        "                           \"제목\" : title_list,\n",
        "                           \"본문\" : content_list,\n",
        "                           \"링크\" : url_list})\n",
        "\n",
        "article_df"
      ],
      "metadata": {
        "id": "5ZgZ_-VN9mGm"
      },
      "execution_count": null,
      "outputs": []
    },
    {
      "cell_type": "markdown",
      "source": [
        "# 전처리"
      ],
      "metadata": {
        "id": "OUvMLvNWLhp0"
      }
    },
    {
      "cell_type": "markdown",
      "source": [
        "**KoNLPy**\n",
        "- 한국어 정보처리를 위한 파이썬 패키지\n",
        "- https://konlpy.org/ko/latest/api/konlpy.tag/#okt-class"
      ],
      "metadata": {
        "id": "1q3t3HMTMmH7"
      }
    },
    {
      "cell_type": "code",
      "source": [
        "pip install konlpy"
      ],
      "metadata": {
        "id": "QR83KuOIMYhj"
      },
      "execution_count": null,
      "outputs": []
    },
    {
      "cell_type": "code",
      "source": [
        "# from konlpy.tag import Kkma\n",
        "from konlpy.tag import Okt\n",
        "from konlpy.utils import pprint\n",
        "import re\n",
        "import"
      ],
      "metadata": {
        "id": "xzW29PkHLlH9"
      },
      "execution_count": 38,
      "outputs": []
    },
    {
      "cell_type": "code",
      "source": [
        "article = \"\"\"\n",
        "'동료와 함께' 메시지로 글로벌 본격 공략…한미 음악방송 출연\n",
        "걸그룹 르세라핌 (서울=연합뉴스) 이태수 기자 = 걸그룹 르세라핌이 27일 오후 1시 첫 영어 디지털 싱글 '퍼펙트 나이트'(Perfect Night)를 발표한다고 소속사 쏘스뮤직이 밝혔다.\n",
        "'퍼펙트 나이트'는 '동료와 함께라면 완벽하지 않은 하루도 즐거울 수 있다'는 메시지를 담은 노래다.\n",
        "르세라핌은 이날 KBS 2TV '뮤직뱅크'와 '더 시즌즈 - 악뮤의 오날오밤'을 시작으로 국내 음악방송에서 신곡 무대를 선보인다.\n",
        "또 다음 달 2일(현지시간) 미국 그래미 뮤지엄 인기 온라인 퍼포먼스 시리즈 '글로벌 스핀 라이브'(Global Spin Live)에 출연하는 등 미국 활동에도 시동을 건다. 이 공연 티켓은 예매 시작 1분 만에 매진됐다.\n",
        "르세라핌은 이번 신곡 뮤직비디오를 블리자드 엔터테인먼트의 유명 게임 '오버워치 2'와 협업해 제작했다. 이들은 다음 달 4일(현지시간) 미국 캘리포니아주 애너하임 컨벤션센터에서 열리는 게임 축제 '블리즈컨 2023'에도 출연해 공연을 펼친다.\"\n",
        "\"\"\"\n",
        "\n",
        "okt = Okt()\n",
        "\n",
        "# for article in article_df[\"본문\"]:\n",
        "article = re.sub('\\n','',article)\n",
        "article = re.sub('\\u200b','',article)\n",
        "article = re.sub('\\xa0','',article)\n",
        "article = re.sub('([a-zA-Z])','',article)\n",
        "article = re.sub('[ㄱ-ㅎㅏ-ㅣ]+','',article)\n",
        "article = re.sub('[-=+,#/\\?:^$.@*\\\"※~&%ㆍ!』\\\\‘|\\(\\)\\[\\]\\<\\>`\\'…》]','',article)\n",
        "\n",
        "article = okt.nouns(article)     # 명사\n",
        "print(article)"
      ],
      "metadata": {
        "colab": {
          "base_uri": "https://localhost:8080/"
        },
        "id": "zMbU268wP0lL",
        "outputId": "6f135242-3973-4242-fb29-4eacd29f4bc7"
      },
      "execution_count": 65,
      "outputs": [
        {
          "output_type": "stream",
          "name": "stdout",
          "text": [
            "['동료', '메시지', '글로벌', '본격', '공략', '한미', '음악', '방송', '출연', '걸그룹', '르', '세라핌', '서울', '연합뉴스', '이태수', '기자', '걸그룹', '르', '세라핌', '오후', '첫', '영어', '디지털', '싱글', '퍼펙트', '나이트', '를', '발표', '소속사', '스뮤', '직', '퍼펙트', '나이트', '동료', '하루', '수', '메시지', '노래', '르', '세라핌', '날', '뮤직뱅크', '더', '시즌즈', '악뮤', '오', '밤', '시작', '국내', '음악', '방송', '신곡', '무대', '또', '다음', '달', '미국', '그래미', '뮤', '지엄', '인기', '온라인', '퍼포먼스', '시리즈', '글로벌', '스핀', '라이브', '출연', '등', '미국', '활동', '시동', '건', '이', '공연', '티켓', '예매', '시작', '매진', '세라핌', '이번', '신곡', '뮤직비디오', '블리자드', '엔터테인먼트', '유명', '게임', '오버', '워치', '협업', '제작', '이', '다음', '달', '미국', '캘리포니아주', '애너하임', '컨벤션', '센터', '게임', '축제', '블리즈컨', '출연', '공연']\n"
          ]
        }
      ]
    }
  ]
}