{
 "cells": [
  {
   "cell_type": "code",
   "execution_count": 1,
   "metadata": {},
   "outputs": [],
   "source": [
    "# coding: utf-8\n",
    "\n",
    "from crawling import startCrawling\n",
    "from clustering import startClustering\n",
    "from summary import startSummary\n",
    "from remove import startRemove"
   ]
  },
  {
   "cell_type": "code",
   "execution_count": 2,
   "metadata": {},
   "outputs": [
    {
     "data": {
      "application/vnd.jupyter.widget-view+json": {
       "model_id": "52ff6ef95a55406ebb1294dec3af030b",
       "version_major": 2,
       "version_minor": 0
      },
      "text/plain": [
       "정치 CONTENT:   0%|          | 0/36 [00:00<?, ?it/s]"
      ]
     },
     "metadata": {},
     "output_type": "display_data"
    },
    {
     "data": {
      "application/vnd.jupyter.widget-view+json": {
       "model_id": "3d488dd5ade245449f8a0e1ab3c97436",
       "version_major": 2,
       "version_minor": 0
      },
      "text/plain": [
       "사회 CONTENT:   0%|          | 0/36 [00:00<?, ?it/s]"
      ]
     },
     "metadata": {},
     "output_type": "display_data"
    },
    {
     "data": {
      "application/vnd.jupyter.widget-view+json": {
       "model_id": "e92ab1f13fa0468f856864f607aadc49",
       "version_major": 2,
       "version_minor": 0
      },
      "text/plain": [
       "IT/과학 CONTENT:   0%|          | 0/36 [00:00<?, ?it/s]"
      ]
     },
     "metadata": {},
     "output_type": "display_data"
    },
    {
     "data": {
      "application/vnd.jupyter.widget-view+json": {
       "model_id": "5fe781db65674e8b942eb469add42df1",
       "version_major": 2,
       "version_minor": 0
      },
      "text/plain": [
       "세계 CONTENT:   0%|          | 0/36 [00:00<?, ?it/s]"
      ]
     },
     "metadata": {},
     "output_type": "display_data"
    },
    {
     "data": {
      "application/vnd.jupyter.widget-view+json": {
       "model_id": "c6fd26d180b8464caf5385010baba72c",
       "version_major": 2,
       "version_minor": 0
      },
      "text/plain": [
       "연예 CONTENT:   0%|          | 0/25 [00:00<?, ?it/s]"
      ]
     },
     "metadata": {},
     "output_type": "display_data"
    },
    {
     "data": {
      "application/vnd.jupyter.widget-view+json": {
       "model_id": "7c9664ecc7f44ef3a5bc5ddc2c0422ef",
       "version_major": 2,
       "version_minor": 0
      },
      "text/plain": [
       "경제 CONTENT:   0%|          | 0/36 [00:00<?, ?it/s]"
      ]
     },
     "metadata": {},
     "output_type": "display_data"
    },
    {
     "data": {
      "application/vnd.jupyter.widget-view+json": {
       "model_id": "76c65bfc68df4dc19aa613976cfd746f",
       "version_major": 2,
       "version_minor": 0
      },
      "text/plain": [
       "생활/문화 CONTENT:   0%|          | 0/36 [00:00<?, ?it/s]"
      ]
     },
     "metadata": {},
     "output_type": "display_data"
    },
    {
     "data": {
      "application/vnd.jupyter.widget-view+json": {
       "model_id": "a6a69074e7ea4ea19f0d6ee00af769e0",
       "version_major": 2,
       "version_minor": 0
      },
      "text/plain": [
       "스포츠 CONTENT:   0%|          | 0/20 [00:00<?, ?it/s]"
      ]
     },
     "metadata": {},
     "output_type": "display_data"
    }
   ],
   "source": [
    "news_df = startCrawling()                                   # 크롤링\n",
    "\n",
    "startRemove(news_df)                                        # 필요없는 기사 삭제\n",
    "\n",
    "cluster_counts_df = startClustering(news_df)                # 군집화\n",
    "\n",
    "# summary_news = startSummary(news_df, cluster_counts_df)     # 요약"
   ]
  },
  {
   "cell_type": "code",
   "execution_count": null,
   "metadata": {},
   "outputs": [],
   "source": []
  }
 ],
 "metadata": {
  "kernelspec": {
   "display_name": "sn",
   "language": "python",
   "name": "python3"
  },
  "language_info": {
   "codemirror_mode": {
    "name": "ipython",
    "version": 3
   },
   "file_extension": ".py",
   "mimetype": "text/x-python",
   "name": "python",
   "nbconvert_exporter": "python",
   "pygments_lexer": "ipython3",
   "version": "3.10.11"
  }
 },
 "nbformat": 4,
 "nbformat_minor": 2
}
