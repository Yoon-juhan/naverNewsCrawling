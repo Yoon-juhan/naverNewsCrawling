{
 "cells": [
  {
   "cell_type": "code",
   "execution_count": null,
   "metadata": {},
   "outputs": [],
   "source": [
    "# coding: utf-8\n",
    "\n",
    "# 만든 기능 임포트\n",
    "from crawling_original import UrlCrawling, ContentCrawling\n",
    "from clustering import startClustering\n",
    "from summary import startSummary\n",
    "from remove import startRemove, original_duplication\n",
    "from database import insert, selectAll, selectToDay, selectHour\n",
    "from upload import upload_mp3\n",
    "from tts import tts"
   ]
  },
  {
   "cell_type": "code",
   "execution_count": null,
   "metadata": {},
   "outputs": [],
   "source": [
    "url_crawler = UrlCrawling()     # 기사 링크 크롤링 객체\n",
    "\n",
    "six_url_df = url_crawler.getSixUrl()                            # 6개 카테고리 (카테고리, url 데이터프레임)\n",
    "entertainment_url_df = url_crawler.getEntertainmentUrl()        # 연예 (카테고리, url 데이터프레임)\n",
    "sports_url_df = url_crawler.getSportsUrl()                      # 스포츠 (카테고리, url 데이터프레임)\n",
    "\n",
    "original_duplication(six_url_df, entertainment_url_df, sports_url_df)     # 이미 요약한 기사 제거\n",
    "\n",
    "# 본문 크롤링\n",
    "six_url, entertainment_url, sports_url = list(six_url_df['six_url']), list(entertainment_url_df['entertainment_url']), list(sports_url_df['sports_url'])\n",
    "all_url = six_url + entertainment_url + sports_url              # 전체 url\n",
    "category = list(six_url_df['category']) + list(entertainment_url_df['category']) + list(sports_url_df['category'])\n",
    "\n",
    "content_crawler = ContentCrawling()                                             # 기사 크롤링 객체\n",
    "\n",
    "content_crawler.getSixContent(six_url)                                          # 6개 카테고리 기사 크롤링\n",
    "content_crawler.getEntertainmentContent(entertainment_url)                      # 연예 기사 크롤링\n",
    "content_crawler.getSportsContent(sports_url)                                    # 스포츠 기사 크롤링\n",
    "\n",
    "news_df = content_crawler.makeDataFrame(all_url, category)                      # 본문 데이터프레임 생성\n",
    "\n",
    "startRemove(news_df)\n",
    "\n",
    "cluster_counts_df = startClustering(news_df)\n",
    "\n",
    "summary_news = startSummary(news_df, cluster_counts_df)\n",
    "\n",
    "# insert(summary_news)\n",
    "\n",
    "# tts()\n",
    "# upload_mp3()"
   ]
  }
 ],
 "metadata": {
  "kernelspec": {
   "display_name": "sn",
   "language": "python",
   "name": "python3"
  },
  "language_info": {
   "codemirror_mode": {
    "name": "ipython",
    "version": 3
   },
   "file_extension": ".py",
   "mimetype": "text/x-python",
   "name": "python",
   "nbconvert_exporter": "python",
   "pygments_lexer": "ipython3",
   "version": "3.10.11"
  }
 },
 "nbformat": 4,
 "nbformat_minor": 2
}
