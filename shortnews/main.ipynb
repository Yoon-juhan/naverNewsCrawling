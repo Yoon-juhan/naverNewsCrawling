{
 "cells": [
  {
   "cell_type": "code",
   "execution_count": 1,
   "metadata": {},
   "outputs": [],
   "source": [
    "# coding: utf-8\n",
    "\n",
    "from crawling import startCrawling\n",
    "from clustering import startClustering\n",
    "from summary import startSummary\n",
    "from remove import startRemove\n",
    "from database import insert\n",
    "from upload import upload_mp3\n",
    "from tts import tts"
   ]
  },
  {
   "cell_type": "code",
   "execution_count": 2,
   "metadata": {},
   "outputs": [
    {
     "data": {
      "application/vnd.jupyter.widget-view+json": {
       "model_id": "63e05bd67d8a495fb1d40129274f3149",
       "version_major": 2,
       "version_minor": 0
      },
      "text/plain": [
       "연예 CONTENT:   0%|          | 0/100 [00:00<?, ?it/s]"
      ]
     },
     "metadata": {},
     "output_type": "display_data"
    },
    {
     "data": {
      "application/vnd.jupyter.widget-view+json": {
       "model_id": "7477db0923eb433cafd8d41023505492",
       "version_major": 2,
       "version_minor": 0
      },
      "text/plain": [
       "정치 CONTENT:   0%|          | 0/108 [00:00<?, ?it/s]"
      ]
     },
     "metadata": {},
     "output_type": "display_data"
    },
    {
     "data": {
      "application/vnd.jupyter.widget-view+json": {
       "model_id": "712563e4906443b59fc6f1f95340afa8",
       "version_major": 2,
       "version_minor": 0
      },
      "text/plain": [
       "생활/문화 CONTENT:   0%|          | 0/108 [00:00<?, ?it/s]"
      ]
     },
     "metadata": {},
     "output_type": "display_data"
    },
    {
     "data": {
      "application/vnd.jupyter.widget-view+json": {
       "model_id": "385d38bc36804110b619c001624c4159",
       "version_major": 2,
       "version_minor": 0
      },
      "text/plain": [
       "경제 CONTENT:   0%|          | 0/108 [00:00<?, ?it/s]"
      ]
     },
     "metadata": {},
     "output_type": "display_data"
    },
    {
     "data": {
      "application/vnd.jupyter.widget-view+json": {
       "model_id": "108856626bcd41e1b449bc9eb7f9ef07",
       "version_major": 2,
       "version_minor": 0
      },
      "text/plain": [
       "스포츠 CONTENT:   0%|          | 0/140 [00:00<?, ?it/s]"
      ]
     },
     "metadata": {},
     "output_type": "display_data"
    },
    {
     "data": {
      "application/vnd.jupyter.widget-view+json": {
       "model_id": "c814902d03974a5c8cfcf27608b21b86",
       "version_major": 2,
       "version_minor": 0
      },
      "text/plain": [
       "세계 CONTENT:   0%|          | 0/108 [00:00<?, ?it/s]"
      ]
     },
     "metadata": {},
     "output_type": "display_data"
    },
    {
     "data": {
      "application/vnd.jupyter.widget-view+json": {
       "model_id": "1ea0077089ee430ca31ddd7eaf8bb6e4",
       "version_major": 2,
       "version_minor": 0
      },
      "text/plain": [
       "IT/과학 CONTENT:   0%|          | 0/108 [00:00<?, ?it/s]"
      ]
     },
     "metadata": {},
     "output_type": "display_data"
    },
    {
     "data": {
      "application/vnd.jupyter.widget-view+json": {
       "model_id": "b32ae5716e82426496b530fdd188159c",
       "version_major": 2,
       "version_minor": 0
      },
      "text/plain": [
       "사회 CONTENT:   0%|          | 0/108 [00:00<?, ?it/s]"
      ]
     },
     "metadata": {},
     "output_type": "display_data"
    },
    {
     "data": {
      "application/vnd.jupyter.widget-view+json": {
       "model_id": "43d9bbc852f643f49cefc5767688b05f",
       "version_major": 2,
       "version_minor": 0
      },
      "text/plain": [
       "요약:   0%|          | 0/160 [00:00<?, ?it/s]"
      ]
     },
     "metadata": {},
     "output_type": "display_data"
    }
   ],
   "source": [
    "news_df = startCrawling()                                   # 크롤링\n",
    "\n",
    "startRemove(news_df)                                        # 필요없는 기사 삭제\n",
    "\n",
    "cluster_counts_df = startClustering(news_df)                # 군집화\n",
    "\n",
    "summary_news = startSummary(news_df, cluster_counts_df)     # 요약\n",
    "\n",
    "# insert(summary_news)\n",
    "\n",
    "# tts()\n",
    "\n",
    "# upload_mp3()"
   ]
  },
  {
   "cell_type": "code",
   "execution_count": 3,
   "metadata": {},
   "outputs": [
    {
     "name": "stdout",
     "output_type": "stream",
     "text": [
      "INSERT 성공\n"
     ]
    }
   ],
   "source": [
    "# insert(summary_news)"
   ]
  },
  {
   "cell_type": "code",
   "execution_count": null,
   "metadata": {},
   "outputs": [],
   "source": [
    "# 검색 기능\n",
    "\n",
    "from search import query\n",
    "\n",
    "response = await query(\"르세라핌\")\n",
    "\n",
    "print(len(response))\n",
    "response"
   ]
  }
 ],
 "metadata": {
  "kernelspec": {
   "display_name": "sn",
   "language": "python",
   "name": "python3"
  },
  "language_info": {
   "codemirror_mode": {
    "name": "ipython",
    "version": 3
   },
   "file_extension": ".py",
   "mimetype": "text/x-python",
   "name": "python",
   "nbconvert_exporter": "python",
   "pygments_lexer": "ipython3",
   "version": "3.10.11"
  }
 },
 "nbformat": 4,
 "nbformat_minor": 2
}
