{
 "cells": [
  {
   "cell_type": "code",
   "execution_count": 1,
   "metadata": {},
   "outputs": [],
   "source": [
    "# coding: utf-8\n",
    "%matplotlib agg\n",
    "\n",
    "# 만든 기능 임포트\n",
    "from crawling import startCrawling\n",
    "from clustering import startClustering\n",
    "from summary import startSummary\n",
    "from remove import startRemove\n",
    "from database import insert\n",
    "from word_cloud import wordCloud\n",
    "from upload import upload_img, upload_mp3\n",
    "from tts import tts"
   ]
  },
  {
   "cell_type": "code",
   "execution_count": 2,
   "metadata": {},
   "outputs": [
    {
     "data": {
      "application/vnd.jupyter.widget-view+json": {
       "model_id": "a1dc4dbd460f428c8d6c71301229119d",
       "version_major": 2,
       "version_minor": 0
      },
      "text/plain": [
       "연예 CONTENT:   0%|          | 0/100 [00:00<?, ?it/s]"
      ]
     },
     "metadata": {},
     "output_type": "display_data"
    },
    {
     "data": {
      "application/vnd.jupyter.widget-view+json": {
       "model_id": "c68bf7daa58a44fb8799c6b0f828fde1",
       "version_major": 2,
       "version_minor": 0
      },
      "text/plain": [
       "IT/과학 CONTENT:   0%|          | 0/36 [00:00<?, ?it/s]"
      ]
     },
     "metadata": {},
     "output_type": "display_data"
    },
    {
     "data": {
      "application/vnd.jupyter.widget-view+json": {
       "model_id": "3f98e766d2b44d5697fc841dd05f0f61",
       "version_major": 2,
       "version_minor": 0
      },
      "text/plain": [
       "스포츠 CONTENT:   0%|          | 0/138 [00:00<?, ?it/s]"
      ]
     },
     "metadata": {},
     "output_type": "display_data"
    },
    {
     "data": {
      "application/vnd.jupyter.widget-view+json": {
       "model_id": "28242cb46d034d96a78371be277fb9ab",
       "version_major": 2,
       "version_minor": 0
      },
      "text/plain": [
       "경제 CONTENT:   0%|          | 0/36 [00:00<?, ?it/s]"
      ]
     },
     "metadata": {},
     "output_type": "display_data"
    },
    {
     "data": {
      "application/vnd.jupyter.widget-view+json": {
       "model_id": "976a88158bfb45c69f8e95507628c2b1",
       "version_major": 2,
       "version_minor": 0
      },
      "text/plain": [
       "세계 CONTENT:   0%|          | 0/36 [00:00<?, ?it/s]"
      ]
     },
     "metadata": {},
     "output_type": "display_data"
    },
    {
     "data": {
      "application/vnd.jupyter.widget-view+json": {
       "model_id": "9811ba66d53c49bbbf28e3b948ed4731",
       "version_major": 2,
       "version_minor": 0
      },
      "text/plain": [
       "사회 CONTENT:   0%|          | 0/36 [00:00<?, ?it/s]"
      ]
     },
     "metadata": {},
     "output_type": "display_data"
    },
    {
     "data": {
      "application/vnd.jupyter.widget-view+json": {
       "model_id": "b5e741b2556540a79a59fa10424b15ea",
       "version_major": 2,
       "version_minor": 0
      },
      "text/plain": [
       "생활/문화 CONTENT:   0%|          | 0/36 [00:00<?, ?it/s]"
      ]
     },
     "metadata": {},
     "output_type": "display_data"
    },
    {
     "data": {
      "application/vnd.jupyter.widget-view+json": {
       "model_id": "5886c6be2da4485695bac0602cad3c2c",
       "version_major": 2,
       "version_minor": 0
      },
      "text/plain": [
       "정치 CONTENT:   0%|          | 0/36 [00:00<?, ?it/s]"
      ]
     },
     "metadata": {},
     "output_type": "display_data"
    },
    {
     "data": {
      "application/vnd.jupyter.widget-view+json": {
       "model_id": "54213c1b04804b4fa9f6868a45290eca",
       "version_major": 2,
       "version_minor": 0
      },
      "text/plain": [
       "요약:   0%|          | 0/80 [00:00<?, ?it/s]"
      ]
     },
     "metadata": {},
     "output_type": "display_data"
    }
   ],
   "source": [
    "news_df = startCrawling()                                   # 크롤링\n",
    "\n",
    "startRemove(news_df)                                        # 필요없는 기사 삭제\n",
    "\n",
    "cluster_counts_df = startClustering(news_df)                # 군집화\n",
    "\n",
    "summary_news = startSummary(news_df, cluster_counts_df)     # 요약\n",
    "\n",
    "# insert(summary_news)\n",
    "\n",
    "# tts()\n",
    "\n",
    "# upload_mp3()"
   ]
  },
  {
   "cell_type": "code",
   "execution_count": 3,
   "metadata": {},
   "outputs": [
    {
     "name": "stdout",
     "output_type": "stream",
     "text": [
      "INSERT 성공\n"
     ]
    }
   ],
   "source": [
    "insert(summary_news)"
   ]
  }
 ],
 "metadata": {
  "kernelspec": {
   "display_name": "sn",
   "language": "python",
   "name": "python3"
  },
  "language_info": {
   "codemirror_mode": {
    "name": "ipython",
    "version": 3
   },
   "file_extension": ".py",
   "mimetype": "text/x-python",
   "name": "python",
   "nbconvert_exporter": "python",
   "pygments_lexer": "ipython3",
   "version": "3.10.11"
  }
 },
 "nbformat": 4,
 "nbformat_minor": 2
}
