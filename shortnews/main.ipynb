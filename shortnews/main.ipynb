{
 "cells": [
  {
   "cell_type": "code",
   "execution_count": 1,
   "metadata": {},
   "outputs": [],
   "source": [
    "# coding: utf-8\n",
    "\n",
    "from crawling import startCrawling\n",
    "from clustering import startClustering\n",
    "from summary import startSummary\n",
    "from remove import startRemove\n",
    "from database import insert\n",
    "from upload import upload_mp3\n",
    "from tts import tts"
   ]
  },
  {
   "cell_type": "code",
   "execution_count": null,
   "metadata": {},
   "outputs": [],
   "source": [
    "news_df = startCrawling()                                   # 크롤링\n",
    "\n",
    "startRemove(news_df)                                        # 필요없는 기사 삭제\n",
    "\n",
    "cluster_counts_df = startClustering(news_df)                # 군집화\n",
    "\n",
    "summary_news = startSummary(news_df, cluster_counts_df)     # 요약\n",
    "\n",
    "# insert(summary_news)\n",
    "\n",
    "# tts()\n",
    "\n",
    "# upload_mp3()"
   ]
  },
  {
   "cell_type": "code",
   "execution_count": null,
   "metadata": {},
   "outputs": [],
   "source": [
    "insert(summary_news)"
   ]
  },
  {
   "cell_type": "code",
   "execution_count": null,
   "metadata": {},
   "outputs": [],
   "source": [
    "# 검색 기능\n",
    "\n",
    "# from search import query\n",
    "\n",
    "# response = await query(\"르세라핌\")\n",
    "\n",
    "# print(len(response))\n",
    "# response"
   ]
  }
 ],
 "metadata": {
  "kernelspec": {
   "display_name": "sn",
   "language": "python",
   "name": "python3"
  },
  "language_info": {
   "codemirror_mode": {
    "name": "ipython",
    "version": 3
   },
   "file_extension": ".py",
   "mimetype": "text/x-python",
   "name": "python",
   "nbconvert_exporter": "python",
   "pygments_lexer": "ipython3",
   "version": "3.10.11"
  }
 },
 "nbformat": 4,
 "nbformat_minor": 2
}
