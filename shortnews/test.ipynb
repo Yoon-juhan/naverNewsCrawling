{
 "cells": [
  {
   "cell_type": "code",
   "execution_count": null,
   "metadata": {},
   "outputs": [],
   "source": [
    "import pandas as pd\n",
    "\n",
    "# coding: utf-8\n",
    "\n",
    "# 만든 기능 임포트\n",
    "from crawling import UrlCrawling, ContentCrawling\n",
    "from preprocessing import Preprocessing\n",
    "from clustering import Clustering\n",
    "from summary import Summary\n",
    "from database import insert, select\n",
    "from tts import tts"
   ]
  },
  {
   "cell_type": "code",
   "execution_count": null,
   "metadata": {},
   "outputs": [],
   "source": [
    "# 링크 크롤링하는 객체 생성\n",
    "url_crawler = UrlCrawling()\n",
    "\n",
    "six_url = url_crawler.getSixUrl()                          # 6개 카테고리 url\n",
    "entertainment_url = url_crawler.getEntertainmentUrl()      # 연예 url\n",
    "sports_url = url_crawler.getSportsUrl()                    # 스포츠 url\n",
    "all_url = six_url + entertainment_url + sports_url        # 전체 url\n",
    "category = url_crawler.category                            # 카테고리 리스트\n",
    "\n",
    "# 본문 크롤링하는 객체 생성\n",
    "content_crawler = ContentCrawling([], [], [], [])\n",
    "\n",
    "content_crawler.getSixContent(six_url)\n",
    "content_crawler.getEntertainmentContent(entertainment_url)\n",
    "content_crawler.getSportsContent(sports_url)\n",
    "\n",
    "article_df = content_crawler.makeDataFrame(all_url, category)                   # 본문 데이터프레임 생성\n",
    "\n",
    "article_df = Preprocessing.getNouns(article_df)                                 # 명사 추출\n",
    "\n",
    "Preprocessing.removeEnglishArticle(article_df)                                  # 영어 기사 삭제\n",
    "\n",
    "vector_list = Preprocessing.getVector(article_df)                               # 명사 벡터화\n",
    "\n",
    "Clustering.addClusterNumber(article_df, vector_list)                            # 군집 번호 열 생성\n",
    "cluster_counts_df = Clustering.getClusteredArticle(article_df)                  # 군집 개수 카운트한 df\n",
    "\n",
    "summary_article = Summary.getSummaryArticle(article_df, cluster_counts_df)              # 요약한 기사 데이터 프레임 반환\n",
    "summary_article = Preprocessing.convertCategory(summary_article)"
   ]
  },
  {
   "cell_type": "code",
   "execution_count": 12,
   "metadata": {},
   "outputs": [
    {
     "ename": "TypeError",
     "evalue": "expecting string or bytes object",
     "output_type": "error",
     "traceback": [
      "\u001b[1;31m---------------------------------------------------------------------------\u001b[0m",
      "\u001b[1;31mTypeError\u001b[0m                                 Traceback (most recent call last)",
      "\u001b[1;32m~\\AppData\\Local\\Temp\\ipykernel_9680\\3720710344.py\u001b[0m in \u001b[0;36m<module>\u001b[1;34m\u001b[0m\n\u001b[1;32m----> 1\u001b[1;33m \u001b[0minsert\u001b[0m\u001b[1;33m(\u001b[0m\u001b[0marticle_df\u001b[0m\u001b[1;33m.\u001b[0m\u001b[0mvalues\u001b[0m\u001b[1;33m.\u001b[0m\u001b[0mtolist\u001b[0m\u001b[1;33m(\u001b[0m\u001b[1;33m)\u001b[0m\u001b[1;33m)\u001b[0m\u001b[1;33m\u001b[0m\u001b[1;33m\u001b[0m\u001b[0m\n\u001b[0m",
      "\u001b[1;32mc:\\Users\\USER\\Desktop\\shortnews\\database.py\u001b[0m in \u001b[0;36minsert\u001b[1;34m(summary_article)\u001b[0m\n\u001b[0;32m     28\u001b[0m \u001b[1;33m\u001b[0m\u001b[0m\n\u001b[0;32m     29\u001b[0m     \u001b[0mcur\u001b[0m \u001b[1;33m=\u001b[0m \u001b[0mconn\u001b[0m\u001b[1;33m.\u001b[0m\u001b[0mcursor\u001b[0m\u001b[1;33m(\u001b[0m\u001b[1;33m)\u001b[0m\u001b[1;33m\u001b[0m\u001b[1;33m\u001b[0m\u001b[0m\n\u001b[1;32m---> 30\u001b[1;33m     \u001b[0mcur\u001b[0m\u001b[1;33m.\u001b[0m\u001b[0mexecutemany\u001b[0m\u001b[1;33m(\u001b[0m\u001b[0msql\u001b[0m\u001b[1;33m,\u001b[0m \u001b[0msummary_article\u001b[0m\u001b[1;33m)\u001b[0m\u001b[1;33m\u001b[0m\u001b[1;33m\u001b[0m\u001b[0m\n\u001b[0m\u001b[0;32m     31\u001b[0m \u001b[1;33m\u001b[0m\u001b[0m\n\u001b[0;32m     32\u001b[0m     \u001b[0mprint\u001b[0m\u001b[1;33m(\u001b[0m\u001b[1;34m\"insert 성공\"\u001b[0m\u001b[1;33m)\u001b[0m\u001b[1;33m\u001b[0m\u001b[1;33m\u001b[0m\u001b[0m\n",
      "\u001b[1;31mTypeError\u001b[0m: expecting string or bytes object"
     ]
    }
   ],
   "source": [
    "insert(summary_article.values.tolist())"
   ]
  },
  {
   "cell_type": "code",
   "execution_count": null,
   "metadata": {},
   "outputs": [],
   "source": [
    "###################\n",
    "#   요약  테스트   #\n",
    "################### "
   ]
  },
  {
   "cell_type": "code",
   "execution_count": null,
   "metadata": {},
   "outputs": [],
   "source": [
    "article_df = pd.read_csv(\"csv/test.csv\")\n",
    "article_df['nouns'] = article_df['nouns'].apply(lambda x: eval(x))        # 명사 열을 다시 리스트 형식으로 변환\n",
    "\n",
    "article_df['content'] = article_df['content'].apply(Preprocessing.clean(article_df['content']))"
   ]
  },
  {
   "cell_type": "code",
   "execution_count": null,
   "metadata": {},
   "outputs": [],
   "source": [
    "article_df = pd.read_csv(\"csv/test.csv\")\n",
    "article_df['nouns'] = article_df['nouns'].apply(lambda x: eval(x))        # 명사 열을 다시 리스트 형식으로 변환\n",
    "\n",
    "\n",
    "\n",
    "Preprocessing.removeEnglishArticle(article_df)                                  # 영어 기사 삭제\n",
    "\n",
    "vector_list = Preprocessing.getVector(article_df)                               # 명사 벡터화\n",
    "\n",
    "Clustering.addClusterNumber(article_df, vector_list)                            # 군집 번호 열 생성\n",
    "cluster_counts_df = Clustering.getClusteredArticle(article_df)                  # 군집 개수 카운트한 df\n",
    "\n",
    "summary_article = Summary.getSummaryArticle(article_df, cluster_counts_df)              # 요약한 기사 데이터 프레임 반환\n",
    "summary_article = Preprocessing.convertCategory(summary_article)\n"
   ]
  },
  {
   "cell_type": "code",
   "execution_count": null,
   "metadata": {},
   "outputs": [],
   "source": [
    "summary_article.to_csv(\"csv/요약2(특수문자 o, 군집 내용 합치기 o).csv\",index=False, encoding=\"utf-8-sig\")"
   ]
  },
  {
   "cell_type": "code",
   "execution_count": null,
   "metadata": {},
   "outputs": [],
   "source": [
    "# 필요할 때 쓰는 코드\n",
    "# csv로 저장\n",
    "summary_article.to_csv(\"tts_test.csv\",index=False, encoding=\"utf-8-sig\")\n",
    "df = pd.read_csv(\"tts_test.csv\")\n",
    "tts(df)\n",
    "insert(summary_article.values.tolist())\n",
    "select()"
   ]
  }
 ],
 "metadata": {
  "kernelspec": {
   "display_name": "sn",
   "language": "python",
   "name": "python3"
  },
  "language_info": {
   "codemirror_mode": {
    "name": "ipython",
    "version": 3
   },
   "file_extension": ".py",
   "mimetype": "text/x-python",
   "name": "python",
   "nbconvert_exporter": "python",
   "pygments_lexer": "ipython3",
   "version": "3.7.9"
  }
 },
 "nbformat": 4,
 "nbformat_minor": 2
}
