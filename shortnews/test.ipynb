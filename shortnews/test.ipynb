{
 "cells": [
  {
   "cell_type": "code",
   "execution_count": 7,
   "metadata": {},
   "outputs": [],
   "source": [
    "import pandas as pd\n",
    "\n",
    "# coding: utf-8\n",
    "\n",
    "# 내가 만든 기능 임포트\n",
    "from crawling import UrlCrawling, ContentCrawling\n",
    "from preprocessing import clean, getNouns, getVector\n",
    "from clustering import addClusterNumber, getClusteredArticle\n",
    "from summary import getSummaryArticle"
   ]
  },
  {
   "cell_type": "code",
   "execution_count": 9,
   "metadata": {},
   "outputs": [],
   "source": [
    "# main\n",
    "\n",
    "# 명사까지 추출한 파일 불러오기, 1400개 기사\n",
    "# test_df는 article_df임\n",
    "\n",
    "test_df = pd.read_csv(\"article.csv\")\n",
    "test_df['nouns'] = test_df['nouns'].apply(lambda x: eval(x))        # 명사 열을 다시 리스트 형식으로 변환\n",
    "\n",
    "vector_list = getVector(test_df)         # 카테고리 별로 명사를 벡터화한 리스트\n",
    "\n",
    "addClusterNumber(test_df, vector_list)   # 군집 번호 열 생성\n",
    "cluster_counts_df = getClusteredArticle(test_df)      # 상위 군집 10개에 해당하는 기사 df, 군집 개수 카운트한 df\n",
    "\n",
    "summary_article = getSummaryArticle(test_df, cluster_counts_df)\n"
   ]
  },
  {
   "cell_type": "code",
   "execution_count": 8,
   "metadata": {},
   "outputs": [],
   "source": [
    "import cx_Oracle as cx\n",
    "import pandas as pd\n",
    "\n",
    "# category, title, content, url\n",
    "id = \"c##2201058\"\n",
    "pw = \"p2201058\"\n",
    "url = \"10.30.3.95:1521/orcl\"\n",
    "\n",
    "conn = cx.connect(id, pw, url)\n",
    "\n",
    "def insert(summary_article):\n",
    "\n",
    "    sql = \"\"\"insert into news(news_id, cate_id, title, content, link, views)\n",
    "             values(news_id_seq.nextval, :1, :2, :3, :4, 0)\"\"\"\n",
    "\n",
    "    cur = conn.cursor()\n",
    "    cur.executemany(sql, summary_article)\n",
    "\n",
    "    cur.close()\n",
    "    conn.commit()\n",
    "    conn.close()\n",
    "\n",
    "insert(summary_article.values.tolist())"
   ]
  },
  {
   "cell_type": "code",
   "execution_count": null,
   "metadata": {},
   "outputs": [],
   "source": [
    "# 카테고리를 숫자로 바꾸기\n",
    "# news_id 날짜 + 카테고리 번호 + 기사 순서(시퀀스)로 만들기"
   ]
  }
 ],
 "metadata": {
  "kernelspec": {
   "display_name": "sn",
   "language": "python",
   "name": "python3"
  },
  "language_info": {
   "codemirror_mode": {
    "name": "ipython",
    "version": 3
   },
   "file_extension": ".py",
   "mimetype": "text/x-python",
   "name": "python",
   "nbconvert_exporter": "python",
   "pygments_lexer": "ipython3",
   "version": "3.7.9"
  }
 },
 "nbformat": 4,
 "nbformat_minor": 2
}
