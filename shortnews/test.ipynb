{
 "cells": [
  {
   "cell_type": "code",
   "execution_count": 1,
   "metadata": {},
   "outputs": [
    {
     "name": "stderr",
     "output_type": "stream",
     "text": [
      "c:\\Users\\USER\\Desktop\\shortnews\\sn\\lib\\site-packages\\tqdm\\auto.py:21: TqdmWarning: IProgress not found. Please update jupyter and ipywidgets. See https://ipywidgets.readthedocs.io/en/stable/user_install.html\n",
      "  from .autonotebook import tqdm as notebook_tqdm\n"
     ]
    }
   ],
   "source": [
    "import pandas as pd\n",
    "\n",
    "# coding: utf-8\n",
    "\n",
    "# 만든 기능 임포트\n",
    "from crawling import UrlCrawling, ContentCrawling\n",
    "from preprocessing import Preprocessing\n",
    "from clustering import Clustering\n",
    "from summary import Summary\n",
    "from remove import Remove\n",
    "from database import insert, selectAll, selectToDay\n",
    "from tts import tts"
   ]
  },
  {
   "cell_type": "code",
   "execution_count": 2,
   "metadata": {},
   "outputs": [
    {
     "name": "stdout",
     "output_type": "stream",
     "text": [
      "IT/과학 1 페이지\n",
      "연예 1 페이지\n",
      "스포츠 1 페이지\n",
      "1, 2, 3, 4, 5, 6, 7, 8, 9, 10, \n",
      "1, 2, 3, 4, 5, 6, 7, 8, 9, 10, 11, 12, 13, 14, 15, 16, 17, 18, 19, 20, 21, 22, 23, 24, \n",
      "1, 2, 3, 4, 5, 6, \n",
      "정치 기사 수 10개 이하\n",
      "경제 기사 수 10개 이하\n",
      "사회 기사 수 10개 이하\n",
      "생활/문화 기사 수 10개 이하\n",
      "세계 기사 수 10개 이하\n"
     ]
    }
   ],
   "source": [
    "# url 크롤링\n",
    "url_crawler = UrlCrawling()     # 기사 링크 크롤링 객체\n",
    "\n",
    "six_url_df = url_crawler.getSixUrl()                            # 6개 카테고리 (카테고리, url 데이터프레임)\n",
    "entertainment_url_df = url_crawler.getEntertainmentUrl()        # 연예 (카테고리, url 데이터프레임)\n",
    "sports_url_df = url_crawler.getSportsUrl()                      # 스포츠 (카테고리, url 데이터프레임)\n",
    "\n",
    "Remove.duplication(six_url_df, entertainment_url_df, sports_url_df)     # 이미 요약한 기사 제거\n",
    "\n",
    "# 본문 크롤링\n",
    "six_url, entertainment_url, sports_url = list(six_url_df['six_url']), list(entertainment_url_df['entertainment_url']), list(sports_url_df['sports_url'])\n",
    "all_url = six_url + entertainment_url + sports_url      # 전체 url\n",
    "category = list(six_url_df['category']) + list(entertainment_url_df['category']) + list(sports_url_df['category'])\n",
    "\n",
    "content_crawler = ContentCrawling()     # 기사 크롤링 객체\n",
    "\n",
    "content_crawler.getSixContent(six_url)                                          # 6개 카테고리 기사 크롤링\n",
    "content_crawler.getEntertainmentContent(entertainment_url)                      # 연예 기사 크롤링\n",
    "content_crawler.getSportsContent(sports_url)                                    # 스포츠 기사 크롤링\n",
    "\n",
    "news_df = content_crawler.makeDataFrame(all_url, category)                      # 본문 데이터프레임 생성\n",
    "\n",
    "Remove.photoNews(news_df)                                                       # 포토 기사 삭제\n",
    "\n",
    "Preprocessing.getNouns(news_df)                                                 # 명사 추출\n",
    "\n",
    "Remove.englishNews(news_df)                                                     # 영어 기사 삭제\n",
    "\n",
    "vector_list = Preprocessing.getVector(news_df)                                  # 명사 벡터화\n",
    "\n",
    "Clustering.addClusterNumber(news_df, vector_list)                               # 군집 번호 열 생성\n",
    "cluster_counts_df = Clustering.getClusteredArticle(news_df)                     # 군집 개수 카운트한 df\n",
    "\n",
    "summary_news = Summary.getSummaryArticle(news_df, cluster_counts_df)            # 요약한 기사 데이터 프레임 반환\n",
    "\n",
    "Preprocessing.convertCategory(summary_news)                                     # 카테고리 이름을 번호로 변경\n",
    "\n",
    "Remove.similarNews(summary_news)                                                # 오늘 요약한 기사와 유사한 기사 drop                       "
   ]
  },
  {
   "cell_type": "code",
   "execution_count": 4,
   "metadata": {},
   "outputs": [
    {
     "name": "stdout",
     "output_type": "stream",
     "text": [
      "insert 성공\n"
     ]
    }
   ],
   "source": [
    "del summary_news['naver_summary']\n",
    "del summary_news['similarity']\n",
    "del summary_news['test_title']\n",
    "\n",
    "insert(summary_news.values.tolist())"
   ]
  },
  {
   "cell_type": "code",
   "execution_count": null,
   "metadata": {},
   "outputs": [],
   "source": [
    "# 필요할 때 쓰는 코드\n",
    "# csv로 저장\n",
    "summary_news.to_csv(\"csv/유사도측정.csv\",index=False, encoding=\"utf-8-sig\")\n",
    "df = pd.read_csv(\"csv/유사도측정.csv\")\n",
    "tts(df)\n",
    "insert(summary_news.values.tolist())"
   ]
  }
 ],
 "metadata": {
  "kernelspec": {
   "display_name": "sn",
   "language": "python",
   "name": "python3"
  },
  "language_info": {
   "codemirror_mode": {
    "name": "ipython",
    "version": 3
   },
   "file_extension": ".py",
   "mimetype": "text/x-python",
   "name": "python",
   "nbconvert_exporter": "python",
   "pygments_lexer": "ipython3",
   "version": "3.7.9"
  }
 },
 "nbformat": 4,
 "nbformat_minor": 2
}
