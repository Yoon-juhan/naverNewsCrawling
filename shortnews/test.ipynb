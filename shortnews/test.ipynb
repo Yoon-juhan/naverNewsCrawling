{
 "cells": [
  {
   "cell_type": "code",
   "execution_count": 1,
   "metadata": {},
   "outputs": [],
   "source": [
    "import pandas as pd\n",
    "import re\n",
    "# coding: utf-8\n",
    "\n",
    "# 만든 기능 임포트\n",
    "from crawling import UrlCrawling, ContentCrawling\n",
    "from preprocessing import Preprocessing\n",
    "from clustering import Clustering\n",
    "from summary import Summary\n",
    "from remove import Remove\n",
    "from database import insert, selectAll, selectToDay\n",
    "%matplotlib agg\n",
    "from draw import drawKeyword\n",
    "from tts import tts"
   ]
  },
  {
   "cell_type": "code",
   "execution_count": null,
   "metadata": {},
   "outputs": [],
   "source": [
    "# url 크롤링\n",
    "url_crawler = UrlCrawling()     # 기사 링크 크롤링 객체\n",
    "\n",
    "six_url_df = url_crawler.getSixUrl()                            # 6개 카테고리 (카테고리, url 데이터프레임)\n",
    "entertainment_url_df = url_crawler.getEntertainmentUrl()        # 연예 (카테고리, url 데이터프레임)\n",
    "sports_url_df = url_crawler.getSportsUrl()                      # 스포츠 (카테고리, url 데이터프레임)\n",
    "\n",
    "Remove.duplication(six_url_df, entertainment_url_df, sports_url_df)     # 이미 요약한 기사 제거\n",
    "\n",
    "# 본문 크롤링\n",
    "six_url, entertainment_url, sports_url = list(six_url_df['six_url']), list(entertainment_url_df['entertainment_url']), list(sports_url_df['sports_url'])\n",
    "all_url = six_url + entertainment_url + sports_url      # 전체 url\n",
    "category = list(six_url_df['category']) + list(entertainment_url_df['category']) + list(sports_url_df['category'])\n",
    "\n",
    "content_crawler = ContentCrawling()     # 기사 크롤링 객체\n",
    "\n",
    "content_crawler.getSixContent(six_url)                                          # 6개 카테고리 기사 크롤링\n",
    "content_crawler.getEntertainmentContent(entertainment_url)                      # 연예 기사 크롤링\n",
    "content_crawler.getSportsContent(sports_url)                                    # 스포츠 기사 크롤링\n",
    "\n",
    "news_df = content_crawler.makeDataFrame(all_url, category)                      # 본문 데이터프레임 생성\n",
    "\n",
    "Remove.photoNews(news_df)                                                       # 포토 기사 삭제\n",
    "Remove.shortNews(news_df)                                                       # 3문장 or 300자 이하 기사 삭제\n",
    "\n",
    "Preprocessing.getNouns(news_df)                                                 # 명사 추출\n",
    "\n",
    "Remove.englishNews(news_df)                                                     # 영어 기사 삭제\n",
    "\n",
    "vector_list = Preprocessing.getVector(news_df)                                  # 명사 벡터화\n",
    "\n",
    "Clustering.addClusterNumber(news_df, vector_list)                               # 군집 번호 열 생성\n",
    "cluster_counts_df = Clustering.getClusteredArticle(news_df)                     # 군집 개수 카운트한 df\n",
    "\n",
    "summary_news = Summary.getSummaryArticle(news_df, cluster_counts_df)            # 기사 요약\n",
    "\n",
    "Preprocessing.convertCategory(summary_news)                                     # 카테고리 이름 변환\n",
    "\n",
    "Remove.similarNews(summary_news)                                                # 오늘 요약한 기사와 유사한 기사 drop\n",
    "\n",
    "drawKeyword()"
   ]
  },
  {
   "cell_type": "code",
   "execution_count": 5,
   "metadata": {},
   "outputs": [],
   "source": [
    "\n"
   ]
  },
  {
   "cell_type": "code",
   "execution_count": null,
   "metadata": {},
   "outputs": [],
   "source": [
    "insert(summary_news)"
   ]
  },
  {
   "cell_type": "code",
   "execution_count": 27,
   "metadata": {},
   "outputs": [
    {
     "name": "stdout",
     "output_type": "stream",
     "text": [
      "연령층,에르메스,소비자,샤넬,브랜드,분위기,보고서,밀레니얼,매일경제,롯데멤버스\n"
     ]
    }
   ],
   "source": [
    "txt = \"\"\"지난해 명품 구매 건수 기준으로 전체 연령층에서 MZ세대가 차지한 비중이 절반을 넘어선 것이다.\n",
    "\n",
    "MZ세대는 에르메스·샤넬 등 초고가 명품보다 가격이 낮은 럭셔리 브랜드로 개성을 표현하려는 경향을 보였으며 경기 침체 속에서도 이 같은 분위기가 이어졌다.\n",
    "\n",
    "5일 매일경제가 확보한 롯데멤버스의 소비자 분석 보고서에 따르면 지난해 명품 소비자 중 Z세대(1995~2003년생)가 17.4%, 밀레니얼 세대(1980~1994년생)가 38.5%를 각각 차지했다.\n",
    "\n",
    "밀레니얼 세대에서도 월 1회 이상 명품을 구매하는 비율이 22.8%로 나타났다.\n",
    "\"\"\"\n",
    "\n",
    "def getKeyword(summary_content):\n",
    "\n",
    "    stop_word = [\"지난해\", \"지난달\", \"대부분\"]\n",
    "    nouns = []\n",
    "\n",
    "    for keyword, tag in hannanum.pos(txt):    # 3글자 이상 명사\n",
    "        if tag in ['N'] and len(keyword) >= 3 and keyword not in stop_word:\n",
    "            nouns.append(keyword)\n",
    "\n",
    "    vectorizer = TfidfVectorizer(min_df=1)  # min_df 특정 단어가 나타나는 '문서의 수'\n",
    "    vectorizer.fit(nouns)\n",
    "\n",
    "    top_keyword = Counter(vectorizer.vocabulary_).most_common(10)   # 상위 10개\n",
    "\n",
    "    keyword_list = []\n",
    "    for keyword in top_keyword:\n",
    "        keyword_list.append(keyword[0])\n",
    "\n",
    "    return \",\".join(keyword_list)\n",
    "\n",
    "print(getKeyword(txt))"
   ]
  },
  {
   "cell_type": "code",
   "execution_count": null,
   "metadata": {},
   "outputs": [],
   "source": [
    "# 시각화\n",
    "from draw import drawKeyword\n",
    "drawKeyword()"
   ]
  }
 ],
 "metadata": {
  "kernelspec": {
   "display_name": "sn",
   "language": "python",
   "name": "python3"
  },
  "language_info": {
   "codemirror_mode": {
    "name": "ipython",
    "version": 3
   },
   "file_extension": ".py",
   "mimetype": "text/x-python",
   "name": "python",
   "nbconvert_exporter": "python",
   "pygments_lexer": "ipython3",
   "version": "3.7.9"
  }
 },
 "nbformat": 4,
 "nbformat_minor": 2
}
