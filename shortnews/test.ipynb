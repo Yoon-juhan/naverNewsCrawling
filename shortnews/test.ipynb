{
 "cells": [
  {
   "cell_type": "code",
   "execution_count": 1,
   "metadata": {},
   "outputs": [],
   "source": [
    "import pandas as pd\n",
    "\n",
    "# coding: utf-8\n",
    "\n",
    "# 만든 기능 임포트\n",
    "from crawling import UrlCrawling, ContentCrawling\n",
    "from preprocessing import Preprocessing\n",
    "from clustering import Clustering\n",
    "from summary import Summary\n",
    "from database import insert, select\n",
    "from tts import tts"
   ]
  },
  {
   "cell_type": "code",
   "execution_count": 2,
   "metadata": {},
   "outputs": [
    {
     "name": "stdout",
     "output_type": "stream",
     "text": [
      "정치 1 페이지\n",
      "경제 1 페이지\n",
      "사회 1 페이지\n",
      "생활/문화 1 페이지\n",
      "세계 1 페이지\n",
      "IT/과학 1 페이지\n",
      "연예 1 페이지\n",
      "스포츠 1 페이지\n",
      "1, 2 요약봇 X, 3, 4 요약봇 X, 5 요약봇 X, 6 요약봇 X, 7 요약봇 X, 8 요약봇 X, 9, 10, 11, 12, 13, 14, 15, 16, 17, 18, 19, 20, 21, 22, 23, 24, 25, 26, 27, 28, 29, 30, 31, 32, 33, 34, 35, 36, 37, 38, 39, 40 요약봇 X, 41 요약봇 X, 42, 43, 44, 45, 46, 47 요약봇 X, 48 요약봇 X, 49, 50 요약봇 X, 51, 52, 53, 54 요약봇 X, 55, 56, 57 요약봇 X, 58, 59, 60, 61, 62 요약봇 X, 63 요약봇 X, 64, 65 요약봇 X, 66, 67, 68 요약봇 X, 69, 70 요약봇 X, 71, 72, 73, 74, 75, 76, 77, 78 요약봇 X, 79, 80 요약봇 X, 81, 82, 83, 84, 85 요약봇 X, 86, 87, 88, 89, 90, 91, 92, 93, 94, 95, 96, 97, 98, 99, 100 요약봇 X, 101, 102, 103, 104, 105, 106, 107, 108, 109, 110, 111, 112, 113, 114, 115, 116, 117, 118, 119 요약봇 X, 120, \n",
      "1, 2, 3, 4, 5, 6, 7, 8, 9, 10, 11, 12, 13, 14, 15, 16, 17, 18, 19, 20, 21, 22, 23, 24, 25, \n",
      "1, 2, 3, 4, 5, 6, 7, 8, 9, 10, 11, 12, 13, 14, 15, 16, 17, "
     ]
    }
   ],
   "source": [
    "# url 크롤링\n",
    "url_crawler = UrlCrawling()\n",
    "\n",
    "six_url_df = url_crawler.getSixUrl()                          # 6개 카테고리 (카테고리, url 데이터프레임)\n",
    "entertainment_url_df = url_crawler.getEntertainmentUrl()      # 연예 (카테고리, url 데이터프레임)\n",
    "sports_url_df = url_crawler.getSportsUrl()                    # 스포츠 (카테고리, url 데이터프레임)\n",
    "\n",
    "six_url_df, entertainment_url_df, sports_url_df = url_crawler.removeDuplicationUrl(six_url_df, entertainment_url_df, sports_url_df)   # 이미 요약한 기사 제거\n",
    "\n",
    "# 본문 크롤링\n",
    "six_url, entertainment_url, sports_url = list(six_url_df['six_url']), list(entertainment_url_df['entertainment_url']), list(sports_url_df['sports_url'])\n",
    "all_url = six_url + entertainment_url + sports_url\n",
    "category = list(six_url_df['category']) + list(entertainment_url_df['category']) + list(sports_url_df['category'])\n",
    "\n",
    "content_crawler = ContentCrawling([], [], [], [], [])\n",
    "\n",
    "content_crawler.getSixContent(six_url)\n",
    "content_crawler.getEntertainmentContent(entertainment_url)\n",
    "content_crawler.getSportsContent(sports_url)\n",
    "\n",
    "article_df = content_crawler.makeDataFrame(all_url, category)                   # 본문 데이터프레임 생성\n",
    "\n",
    "article_df = Preprocessing.getNouns(article_df)                                 # 명사 추출\n",
    "\n",
    "Preprocessing.removeEnglishArticle(article_df)                                  # 영어 기사 삭제\n",
    "\n",
    "vector_list = Preprocessing.getVector(article_df)                               # 명사 벡터화\n",
    "\n",
    "Clustering.addClusterNumber(article_df, vector_list)                            # 군집 번호 열 생성\n",
    "cluster_counts_df = Clustering.getClusteredArticle(article_df)                  # 군집 개수 카운트한 df\n",
    "\n",
    "summary_article = Summary.getSummaryArticle(article_df, cluster_counts_df)              # 요약한 기사 데이터 프레임 반환\n",
    "summary_article = Preprocessing.convertCategory(summary_article)"
   ]
  },
  {
   "cell_type": "code",
   "execution_count": 3,
   "metadata": {},
   "outputs": [
    {
     "name": "stdout",
     "output_type": "stream",
     "text": [
      "insert 성공\n"
     ]
    }
   ],
   "source": [
    "del summary_article['naver_summary']\n",
    "del summary_article['similarity']\n",
    "\n",
    "insert(summary_article.values.tolist())"
   ]
  },
  {
   "cell_type": "code",
   "execution_count": null,
   "metadata": {},
   "outputs": [],
   "source": [
    "# # 링크 크롤링하는 객체 생성\n",
    "# url_crawler = UrlCrawling()\n",
    "\n",
    "# six_url = url_crawler.getSixUrl()                          # 6개 카테고리 url\n",
    "# entertainment_url = url_crawler.getEntertainmentUrl()      # 연예 url\n",
    "# sports_url = url_crawler.getSportsUrl()                    # 스포츠 url\n",
    "# all_url = six_url + entertainment_url + sports_url        # 전체 url\n",
    "# category = url_crawler.category                            # 카테고리 리스트\n",
    "\n",
    "# # 본문 크롤링하는 객체 생성\n",
    "# content_crawler = ContentCrawling([], [], [], [], [])\n",
    "\n",
    "# content_crawler.getSixContent(six_url)\n",
    "# content_crawler.getEntertainmentContent(entertainment_url)\n",
    "# content_crawler.getSportsContent(sports_url)\n",
    "\n",
    "# article_df = content_crawler.makeDataFrame(all_url, category)                   # 본문 데이터프레임 생성\n",
    "\n",
    "# article_df = Preprocessing.getNouns(article_df)                                 # 명사 추출\n",
    "\n",
    "# Preprocessing.removeEnglishArticle(article_df)                                  # 영어 기사 삭제\n",
    "\n",
    "# vector_list = Preprocessing.getVector(article_df)                               # 명사 벡터화\n",
    "\n",
    "# Clustering.addClusterNumber(article_df, vector_list)                            # 군집 번호 열 생성\n",
    "# cluster_counts_df = Clustering.getClusteredArticle(article_df)                  # 군집 개수 카운트한 df\n",
    "\n",
    "# summary_article = Summary.getSummaryArticle(article_df, cluster_counts_df)              # 요약한 기사 데이터 프레임 반환\n",
    "# summary_article = Preprocessing.convertCategory(summary_article)\n"
   ]
  },
  {
   "cell_type": "code",
   "execution_count": null,
   "metadata": {},
   "outputs": [],
   "source": [
    "# 필요할 때 쓰는 코드\n",
    "# csv로 저장\n",
    "summary_article.to_csv(\"csv/유사도측정.csv\",index=False, encoding=\"utf-8-sig\")\n",
    "df = pd.read_csv(\"csv/유사도측정.csv\")\n",
    "tts(df)\n",
    "insert(summary_article.values.tolist())\n",
    "select()"
   ]
  }
 ],
 "metadata": {
  "kernelspec": {
   "display_name": "sn",
   "language": "python",
   "name": "python3"
  },
  "language_info": {
   "codemirror_mode": {
    "name": "ipython",
    "version": 3
   },
   "file_extension": ".py",
   "mimetype": "text/x-python",
   "name": "python",
   "nbconvert_exporter": "python",
   "pygments_lexer": "ipython3",
   "version": "3.7.9"
  }
 },
 "nbformat": 4,
 "nbformat_minor": 2
}
