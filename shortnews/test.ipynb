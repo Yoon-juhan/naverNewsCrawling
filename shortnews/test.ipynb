{
 "cells": [
  {
   "cell_type": "code",
   "execution_count": 6,
   "metadata": {},
   "outputs": [],
   "source": [
    "import pandas as pd\n",
    "\n",
    "# coding: utf-8\n",
    "\n",
    "# 만든 기능 임포트\n",
    "from crawling import UrlCrawling, ContentCrawling\n",
    "from preprocessing import Preprocessing\n",
    "from clustering import Clustering\n",
    "from summary import Summary\n",
    "from database import insert, select"
   ]
  },
  {
   "cell_type": "code",
   "execution_count": null,
   "metadata": {},
   "outputs": [],
   "source": [
    "# 링크 크롤링하는 객체 생성\n",
    "url_crawler = UrlCrawling()\n",
    "\n",
    "six_url = url_crawler.getSixUrl()                          # 6개 카테고리 url\n",
    "entertainment_url = url_crawler.getEntertainmentUrl()      # 연예 url\n",
    "sports_url = url_crawler.getSportsUrl()                    # 스포츠 url\n",
    "all_url = six_url + entertainment_url + sports_url        # 전체 url\n",
    "category = url_crawler.category                            # 카테고리 리스트\n",
    "\n",
    "# 본문 크롤링하는 객체 생성\n",
    "content_crawler = ContentCrawling([], [], [], [])\n",
    "\n",
    "content_crawler.getSixContent(six_url)\n",
    "content_crawler.getEntertainmentContent(entertainment_url)\n",
    "content_crawler.getSportsContent(sports_url)\n",
    "\n",
    "article_df = content_crawler.makeDataFrame(all_url, category)                   # 본문 데이터프레임 생성\n",
    "\n",
    "article_df = Preprocessing.getNouns(article_df)                                 # 명사 추출\n",
    "\n",
    "Preprocessing.removeEnglishArticle(article_df)                                  # 영어 기사 삭제\n",
    "\n",
    "vector_list = Preprocessing.getVector(article_df)                               # 명사 벡터화\n",
    "\n",
    "Clustering.addClusterNumber(article_df, vector_list)                            # 군집 번호 열 생성\n",
    "cluster_counts_df = Clustering.getClusteredArticle(article_df)                  # 군집 개수 카운트한 df\n",
    "\n",
    "summary_article = Summary.getSummaryArticle(article_df, cluster_counts_df)              # 요약한 기사 데이터 프레임 반환\n",
    "summary_article = Preprocessing.convertCategory(summary_article)"
   ]
  },
  {
   "cell_type": "code",
   "execution_count": 8,
   "metadata": {},
   "outputs": [],
   "source": [
    "insert(summary_article.values.tolist())"
   ]
  },
  {
   "cell_type": "code",
   "execution_count": null,
   "metadata": {},
   "outputs": [],
   "source": [
    "select()"
   ]
  }
 ],
 "metadata": {
  "kernelspec": {
   "display_name": "sn",
   "language": "python",
   "name": "python3"
  },
  "language_info": {
   "codemirror_mode": {
    "name": "ipython",
    "version": 3
   },
   "file_extension": ".py",
   "mimetype": "text/x-python",
   "name": "python",
   "nbconvert_exporter": "python",
   "pygments_lexer": "ipython3",
   "version": "3.7.9"
  }
 },
 "nbformat": 4,
 "nbformat_minor": 2
}
